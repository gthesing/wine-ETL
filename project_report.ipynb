{
 "cells": [
  {
   "cell_type": "markdown",
   "metadata": {},
   "source": [
    "# ETL Project:  Wine Reviews & Locations"
   ]
  },
  {
   "cell_type": "markdown",
   "metadata": {},
   "source": [
    "#### Project Members:  Gabe Thesing and Kristi Herman"
   ]
  },
  {
   "cell_type": "markdown",
   "metadata": {},
   "source": [
    "## Extract\n",
    "#### <u>Data Sources</u>\n",
    "#### Wine Review Data:  Gabe to fill in\n",
    "\n",
    "#### Geolocation Data for Wineries:  https://developers.google.com/maps/documentation/geocoding/intro\n",
    "The following steps were taken to retrieve and extract geolocation data from Google for wineries. The code for these extraction steps is in the <a href = \"kh_raw_data/geo_data/geo_data.ipynb\">geo_data.ipynb</a> jupyter notebook file: \n",
    "<ol><li>Imported Wine Reviews csv to a pandas dataframe.</li>\n",
    "    <li>Extracted the unique list of wineries and put into a list.</li>\n",
    "    <li>Called the Google API to get geolocation data for each winery.</li>\n",
    "    <li>Extracted the latitude and longitude from the JSON response from Google.\n",
    "    <li>Saved the latitude, longitude, and winery to a new dataframe.</li>\n",
    "    <li>Exported to a new csv file:  <a href=\"kh_raw_data/geo_data/winery-lat-lng-final.csv\">winery-lat-lng-final.csv</a></li>"
   ]
  },
  {
   "cell_type": "markdown",
   "metadata": {},
   "source": [
    "## Transform\n",
    "The following steps were taken to clean the geolocation data. The code for these extraction steps is in the <a href = \"etl.ipynb\">etl.ipynb</a> jupyter notebook file:\n",
    "<ol><li>Imported the winery-lat-lng-final.csv to a new pandas dataframe. The csv file needed to be imported with the encoding of utf8 to prevent problems loading special characters into the database.  Many winery names contain special characters like accent marks.</li>\n",
    "<li>Transformed the latitude and longitude to five decimals, which is accurate to about 1 meter in geolocation data.</li></ol>\n",
    "    "
   ]
  },
  {
   "cell_type": "markdown",
   "metadata": {},
   "source": [
    "## Load\n",
    "The following steps were taken to load the geolocation data to a SQL database. The code create the database is in the <a href = \"db.sql\">db.sql</a> file.  The code to load the data from python to the SQL database is in the <a href = \"etl.ipynb\">etl.ipynb</a> jupyter notebook file:\n",
    "<ol><li>Created and ran the db.sql file to create a new winery_db database</li>\n",
    "    <li>The db.sql file also creates a new \"coordinates\" table within winery_db.  The column for \"winery\" name needed to be set to utf8 in order to support special characters in the winery names. </li>\n",
    "    <li>From the jupyter notebook etl.ipynb file, established a connection to winery_db.  \n",
    "    <li>The cleaned geolocation dataframe was loaded into the SQL database using the to_sql.\n",
    "\n"
   ]
  },
  {
   "cell_type": "markdown",
   "metadata": {},
   "source": [
    "## Lessons Learned\n",
    "<ol><li>Always remove duplicates before calling an API!!!</li>\n",
    "    <li>In this case, all of the response data returned from the APIs calls should have been saved out to a file or db in case there is a need to use additional data points from the responses in the future. "
   ]
  },
  {
   "cell_type": "code",
   "execution_count": null,
   "metadata": {},
   "outputs": [],
   "source": []
  }
 ],
 "metadata": {
  "kernelspec": {
   "display_name": "my_environment",
   "language": "python",
   "name": "my_environment"
  },
  "language_info": {
   "codemirror_mode": {
    "name": "ipython",
    "version": 3
   },
   "file_extension": ".py",
   "mimetype": "text/x-python",
   "name": "python",
   "nbconvert_exporter": "python",
   "pygments_lexer": "ipython3",
   "version": "3.7.0"
  }
 },
 "nbformat": 4,
 "nbformat_minor": 2
}
