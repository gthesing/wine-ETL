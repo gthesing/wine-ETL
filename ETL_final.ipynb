{
 "cells": [
  {
   "cell_type": "markdown",
   "metadata": {},
   "source": [
    "# ETL of wine review data and geographical data scraped from google"
   ]
  },
  {
   "cell_type": "markdown",
   "metadata": {},
   "source": [
    "### Dependencies "
   ]
  },
  {
   "cell_type": "code",
   "execution_count": 1,
   "metadata": {},
   "outputs": [],
   "source": [
    "import pandas as pd\n",
    "from sqlalchemy import create_engine\n",
    "import numpy as np\n",
    "import pymysql\n",
    "pymysql.install_as_MySQLdb()\n",
    "from config import mysql_password"
   ]
  },
  {
   "cell_type": "markdown",
   "metadata": {},
   "source": [
    "## Cleanup"
   ]
  },
  {
   "cell_type": "code",
   "execution_count": 20,
   "metadata": {},
   "outputs": [],
   "source": [
    "# Importing CSV files and converting to pandas dataframes\n",
    "\n",
    "winemag_df = pd.read_csv('raw_data/winemag-data-130k-v2.csv', encoding = 'utf-8')\n",
    "coordinates_df = pd.read_csv('raw_data/geo_data/winery-lat-lng-final.csv', encoding = 'utf-8')"
   ]
  },
  {
   "cell_type": "markdown",
   "metadata": {},
   "source": [
    "##### Geographical data scraped from google"
   ]
  },
  {
   "cell_type": "code",
   "execution_count": 3,
   "metadata": {},
   "outputs": [],
   "source": [
    "# Rounding latitude and longitude values to 5 decimal places\n",
    "\n",
    "coordinates_df['latitude'] = round(coordinates_df['latitude'], 5)\n",
    "coordinates_df['longitude'] = round(coordinates_df['longitude'], 5)"
   ]
  },
  {
   "cell_type": "markdown",
   "metadata": {},
   "source": [
    "##### Downloaded wine review dataset"
   ]
  },
  {
   "cell_type": "code",
   "execution_count": 4,
   "metadata": {},
   "outputs": [],
   "source": [
    "# Getting only the necessary columns\n",
    "winemag_trimmed = winemag_df[['country', 'description', 'taster_name', 'points', 'price', 'province', 'title', 'variety', 'winery']]\n",
    "\n",
    "# Drop duplicate reviews and limiting each wine to one review \n",
    "winemag_clean = winemag_trimmed.drop_duplicates(subset='description')"
   ]
  },
  {
   "cell_type": "markdown",
   "metadata": {},
   "source": [
    "### Merging all the data into one dataframe"
   ]
  },
  {
   "cell_type": "code",
   "execution_count": 5,
   "metadata": {},
   "outputs": [],
   "source": [
    "# Merge the two dataframes on winery\n",
    "wine_merged = pd.merge(winemag_clean, coordinates_df, on='winery', how='left')\n",
    "\n",
    "# Remove any entries with NaN values\n",
    "wine_merged = wine_merged.dropna()"
   ]
  },
  {
   "cell_type": "markdown",
   "metadata": {},
   "source": [
    "### Assigning an index number to each wine for database organization"
   ]
  },
  {
   "cell_type": "code",
   "execution_count": null,
   "metadata": {},
   "outputs": [],
   "source": [
    "# Pull out titles to new df, drop duplicate titles\n",
    "assigning_idx_df = wine_merged[['title']]\n",
    "assigning_idx_df = assigning_idx_df.drop_duplicates(subset='title')\n",
    "\n",
    "# Reset index to assign values only to unique titles\n",
    "assigning_idx_df = assigning_idx_df.reset_index(drop=True)\n",
    "assigning_idx_df['wine_id'] = assigning_idx_df.index\n",
    "assigning_idx_df['wine_id'] = assigning_idx_df['wine_id'] + 1\n",
    "\n",
    "# Use merge to bring in index numbers for all df entries\n",
    "wine_df = pd.merge(wine_merged, assigning_idx_df, on='title', how='left')"
   ]
  },
  {
   "cell_type": "code",
   "execution_count": 7,
   "metadata": {},
   "outputs": [
    {
     "data": {
      "text/html": [
       "<div>\n",
       "<style scoped>\n",
       "    .dataframe tbody tr th:only-of-type {\n",
       "        vertical-align: middle;\n",
       "    }\n",
       "\n",
       "    .dataframe tbody tr th {\n",
       "        vertical-align: top;\n",
       "    }\n",
       "\n",
       "    .dataframe thead th {\n",
       "        text-align: right;\n",
       "    }\n",
       "</style>\n",
       "<table border=\"1\" class=\"dataframe\">\n",
       "  <thead>\n",
       "    <tr style=\"text-align: right;\">\n",
       "      <th></th>\n",
       "      <th>country</th>\n",
       "      <th>description</th>\n",
       "      <th>taster_name</th>\n",
       "      <th>points</th>\n",
       "      <th>price</th>\n",
       "      <th>province</th>\n",
       "      <th>title</th>\n",
       "      <th>variety</th>\n",
       "      <th>winery</th>\n",
       "      <th>latitude</th>\n",
       "      <th>longitude</th>\n",
       "      <th>wine_id</th>\n",
       "    </tr>\n",
       "  </thead>\n",
       "  <tbody>\n",
       "    <tr>\n",
       "      <th>0</th>\n",
       "      <td>Portugal</td>\n",
       "      <td>This is ripe and fruity, a wine that is smooth...</td>\n",
       "      <td>Roger Voss</td>\n",
       "      <td>87</td>\n",
       "      <td>15.0</td>\n",
       "      <td>Douro</td>\n",
       "      <td>Quinta dos Avidagos 2011 Avidagos Red (Douro)</td>\n",
       "      <td>Portuguese Red</td>\n",
       "      <td>Quinta dos Avidagos</td>\n",
       "      <td>41.38769</td>\n",
       "      <td>-7.27687</td>\n",
       "      <td>1</td>\n",
       "    </tr>\n",
       "  </tbody>\n",
       "</table>\n",
       "</div>"
      ],
      "text/plain": [
       "    country                                        description taster_name  \\\n",
       "0  Portugal  This is ripe and fruity, a wine that is smooth...  Roger Voss   \n",
       "\n",
       "   points  price province                                          title  \\\n",
       "0      87   15.0    Douro  Quinta dos Avidagos 2011 Avidagos Red (Douro)   \n",
       "\n",
       "          variety               winery  latitude  longitude  wine_id  \n",
       "0  Portuguese Red  Quinta dos Avidagos  41.38769   -7.27687        1  "
      ]
     },
     "execution_count": 7,
     "metadata": {},
     "output_type": "execute_result"
    }
   ],
   "source": [
    "wine_df.head(1)"
   ]
  },
  {
   "cell_type": "code",
   "execution_count": 8,
   "metadata": {},
   "outputs": [
    {
     "data": {
      "text/plain": [
       "country           41\n",
       "description    79514\n",
       "taster_name       19\n",
       "points            21\n",
       "price            372\n",
       "province         404\n",
       "title          78859\n",
       "variety          626\n",
       "winery         11624\n",
       "latitude       10768\n",
       "longitude      10779\n",
       "wine_id        78859\n",
       "dtype: int64"
      ]
     },
     "execution_count": 8,
     "metadata": {},
     "output_type": "execute_result"
    }
   ],
   "source": [
    "# Check to see if unique titles = unique index_col \n",
    "# number of unique descriptions should be greater than unique titles\n",
    "wine_df.nunique()"
   ]
  },
  {
   "cell_type": "markdown",
   "metadata": {},
   "source": [
    "### Organizing into tables for database prep"
   ]
  },
  {
   "cell_type": "code",
   "execution_count": 9,
   "metadata": {},
   "outputs": [],
   "source": [
    "location = wine_df[['wine_id', 'winery', 'province', 'country', 'latitude', 'longitude']]\n",
    "location = location.drop_duplicates(subset='winery')"
   ]
  },
  {
   "cell_type": "code",
   "execution_count": 10,
   "metadata": {},
   "outputs": [],
   "source": [
    "review = wine_df[['wine_id', 'taster_name', 'points', 'description', 'price']]"
   ]
  },
  {
   "cell_type": "code",
   "execution_count": 11,
   "metadata": {},
   "outputs": [],
   "source": [
    "bottle = wine_df[['wine_id', 'title', 'variety', 'winery']]\n",
    "bottle = bottle.drop_duplicates(subset='wine_id')"
   ]
  },
  {
   "cell_type": "markdown",
   "metadata": {},
   "source": [
    "### Connect to the local winery_db database"
   ]
  },
  {
   "cell_type": "code",
   "execution_count": 33,
   "metadata": {},
   "outputs": [],
   "source": [
    "conn_string = \"mysql+pymysql://root:\" + mysql_password + \"@localhost:3306/winery_db?charset=utf8mb4\"\n",
    "engine = create_engine(conn_string)"
   ]
  },
  {
   "cell_type": "markdown",
   "metadata": {},
   "source": [
    "### Check the database for tables"
   ]
  },
  {
   "cell_type": "code",
   "execution_count": 34,
   "metadata": {},
   "outputs": [
    {
     "data": {
      "text/plain": [
       "['bottle', 'location', 'review']"
      ]
     },
     "execution_count": 34,
     "metadata": {},
     "output_type": "execute_result"
    }
   ],
   "source": [
    "engine.table_names()"
   ]
  },
  {
   "cell_type": "markdown",
   "metadata": {},
   "source": [
    "### Use Pandas to load dataframes into MySQL database as tables"
   ]
  },
  {
   "cell_type": "code",
   "execution_count": 35,
   "metadata": {},
   "outputs": [],
   "source": [
    "location.to_sql(name='location', con=engine, if_exists='replace', index=False)\n",
    "review.to_sql(name='review', con=engine, if_exists='replace', index=False)\n",
    "bottle.to_sql(name='bottle', con=engine, if_exists='replace', index=False)"
   ]
  },
  {
   "cell_type": "markdown",
   "metadata": {},
   "source": [
    "### Confirm data has been loaded to database by querying the winery_db"
   ]
  },
  {
   "cell_type": "code",
   "execution_count": 36,
   "metadata": {},
   "outputs": [
    {
     "data": {
      "text/html": [
       "<div>\n",
       "<style scoped>\n",
       "    .dataframe tbody tr th:only-of-type {\n",
       "        vertical-align: middle;\n",
       "    }\n",
       "\n",
       "    .dataframe tbody tr th {\n",
       "        vertical-align: top;\n",
       "    }\n",
       "\n",
       "    .dataframe thead th {\n",
       "        text-align: right;\n",
       "    }\n",
       "</style>\n",
       "<table border=\"1\" class=\"dataframe\">\n",
       "  <thead>\n",
       "    <tr style=\"text-align: right;\">\n",
       "      <th></th>\n",
       "      <th>wine_id</th>\n",
       "      <th>winery</th>\n",
       "      <th>province</th>\n",
       "      <th>country</th>\n",
       "      <th>latitude</th>\n",
       "      <th>longitude</th>\n",
       "    </tr>\n",
       "  </thead>\n",
       "  <tbody>\n",
       "    <tr>\n",
       "      <th>0</th>\n",
       "      <td>1</td>\n",
       "      <td>Quinta dos Avidagos</td>\n",
       "      <td>Douro</td>\n",
       "      <td>Portugal</td>\n",
       "      <td>41.38769</td>\n",
       "      <td>-7.27687</td>\n",
       "    </tr>\n",
       "    <tr>\n",
       "      <th>1</th>\n",
       "      <td>2</td>\n",
       "      <td>Rainstorm</td>\n",
       "      <td>Oregon</td>\n",
       "      <td>US</td>\n",
       "      <td>40.08983</td>\n",
       "      <td>-88.24818</td>\n",
       "    </tr>\n",
       "    <tr>\n",
       "      <th>2</th>\n",
       "      <td>3</td>\n",
       "      <td>St. Julian</td>\n",
       "      <td>Michigan</td>\n",
       "      <td>US</td>\n",
       "      <td>40.01597</td>\n",
       "      <td>-105.28277</td>\n",
       "    </tr>\n",
       "    <tr>\n",
       "      <th>3</th>\n",
       "      <td>4</td>\n",
       "      <td>Sweet Cheeks</td>\n",
       "      <td>Oregon</td>\n",
       "      <td>US</td>\n",
       "      <td>42.34390</td>\n",
       "      <td>-71.10110</td>\n",
       "    </tr>\n",
       "    <tr>\n",
       "      <th>4</th>\n",
       "      <td>5</td>\n",
       "      <td>Tandem</td>\n",
       "      <td>Northern Spain</td>\n",
       "      <td>Spain</td>\n",
       "      <td>36.35816</td>\n",
       "      <td>-94.21373</td>\n",
       "    </tr>\n",
       "  </tbody>\n",
       "</table>\n",
       "</div>"
      ],
      "text/plain": [
       "   wine_id               winery        province   country  latitude  longitude\n",
       "0        1  Quinta dos Avidagos           Douro  Portugal  41.38769   -7.27687\n",
       "1        2            Rainstorm          Oregon        US  40.08983  -88.24818\n",
       "2        3           St. Julian        Michigan        US  40.01597 -105.28277\n",
       "3        4         Sweet Cheeks          Oregon        US  42.34390  -71.10110\n",
       "4        5               Tandem  Northern Spain     Spain  36.35816  -94.21373"
      ]
     },
     "execution_count": 36,
     "metadata": {},
     "output_type": "execute_result"
    }
   ],
   "source": [
    "pd.read_sql_query('select * from location', con=engine).head()"
   ]
  },
  {
   "cell_type": "code",
   "execution_count": 37,
   "metadata": {},
   "outputs": [
    {
     "data": {
      "text/html": [
       "<div>\n",
       "<style scoped>\n",
       "    .dataframe tbody tr th:only-of-type {\n",
       "        vertical-align: middle;\n",
       "    }\n",
       "\n",
       "    .dataframe tbody tr th {\n",
       "        vertical-align: top;\n",
       "    }\n",
       "\n",
       "    .dataframe thead th {\n",
       "        text-align: right;\n",
       "    }\n",
       "</style>\n",
       "<table border=\"1\" class=\"dataframe\">\n",
       "  <thead>\n",
       "    <tr style=\"text-align: right;\">\n",
       "      <th></th>\n",
       "      <th>wine_id</th>\n",
       "      <th>taster_name</th>\n",
       "      <th>points</th>\n",
       "      <th>description</th>\n",
       "      <th>price</th>\n",
       "    </tr>\n",
       "  </thead>\n",
       "  <tbody>\n",
       "    <tr>\n",
       "      <th>0</th>\n",
       "      <td>1</td>\n",
       "      <td>Roger Voss</td>\n",
       "      <td>87</td>\n",
       "      <td>This is ripe and fruity, a wine that is smooth...</td>\n",
       "      <td>15.0</td>\n",
       "    </tr>\n",
       "    <tr>\n",
       "      <th>1</th>\n",
       "      <td>2</td>\n",
       "      <td>Paul Gregutt</td>\n",
       "      <td>87</td>\n",
       "      <td>Tart and snappy, the flavors of lime flesh and...</td>\n",
       "      <td>14.0</td>\n",
       "    </tr>\n",
       "    <tr>\n",
       "      <th>2</th>\n",
       "      <td>3</td>\n",
       "      <td>Alexander Peartree</td>\n",
       "      <td>87</td>\n",
       "      <td>Pineapple rind, lemon pith and orange blossom ...</td>\n",
       "      <td>13.0</td>\n",
       "    </tr>\n",
       "    <tr>\n",
       "      <th>3</th>\n",
       "      <td>4</td>\n",
       "      <td>Paul Gregutt</td>\n",
       "      <td>87</td>\n",
       "      <td>Much like the regular bottling from 2012, this...</td>\n",
       "      <td>65.0</td>\n",
       "    </tr>\n",
       "    <tr>\n",
       "      <th>4</th>\n",
       "      <td>5</td>\n",
       "      <td>Michael Schachner</td>\n",
       "      <td>87</td>\n",
       "      <td>Blackberry and raspberry aromas show a typical...</td>\n",
       "      <td>15.0</td>\n",
       "    </tr>\n",
       "  </tbody>\n",
       "</table>\n",
       "</div>"
      ],
      "text/plain": [
       "   wine_id         taster_name  points  \\\n",
       "0        1          Roger Voss      87   \n",
       "1        2        Paul Gregutt      87   \n",
       "2        3  Alexander Peartree      87   \n",
       "3        4        Paul Gregutt      87   \n",
       "4        5   Michael Schachner      87   \n",
       "\n",
       "                                         description  price  \n",
       "0  This is ripe and fruity, a wine that is smooth...   15.0  \n",
       "1  Tart and snappy, the flavors of lime flesh and...   14.0  \n",
       "2  Pineapple rind, lemon pith and orange blossom ...   13.0  \n",
       "3  Much like the regular bottling from 2012, this...   65.0  \n",
       "4  Blackberry and raspberry aromas show a typical...   15.0  "
      ]
     },
     "execution_count": 37,
     "metadata": {},
     "output_type": "execute_result"
    }
   ],
   "source": [
    "pd.read_sql_query('select * from review', con=engine).head()"
   ]
  },
  {
   "cell_type": "code",
   "execution_count": 38,
   "metadata": {},
   "outputs": [
    {
     "data": {
      "text/html": [
       "<div>\n",
       "<style scoped>\n",
       "    .dataframe tbody tr th:only-of-type {\n",
       "        vertical-align: middle;\n",
       "    }\n",
       "\n",
       "    .dataframe tbody tr th {\n",
       "        vertical-align: top;\n",
       "    }\n",
       "\n",
       "    .dataframe thead th {\n",
       "        text-align: right;\n",
       "    }\n",
       "</style>\n",
       "<table border=\"1\" class=\"dataframe\">\n",
       "  <thead>\n",
       "    <tr style=\"text-align: right;\">\n",
       "      <th></th>\n",
       "      <th>wine_id</th>\n",
       "      <th>title</th>\n",
       "      <th>variety</th>\n",
       "      <th>winery</th>\n",
       "    </tr>\n",
       "  </thead>\n",
       "  <tbody>\n",
       "    <tr>\n",
       "      <th>0</th>\n",
       "      <td>1</td>\n",
       "      <td>Quinta dos Avidagos 2011 Avidagos Red (Douro)</td>\n",
       "      <td>Portuguese Red</td>\n",
       "      <td>Quinta dos Avidagos</td>\n",
       "    </tr>\n",
       "    <tr>\n",
       "      <th>1</th>\n",
       "      <td>2</td>\n",
       "      <td>Rainstorm 2013 Pinot Gris (Willamette Valley)</td>\n",
       "      <td>Pinot Gris</td>\n",
       "      <td>Rainstorm</td>\n",
       "    </tr>\n",
       "    <tr>\n",
       "      <th>2</th>\n",
       "      <td>3</td>\n",
       "      <td>St. Julian 2013 Reserve Late Harvest Riesling ...</td>\n",
       "      <td>Riesling</td>\n",
       "      <td>St. Julian</td>\n",
       "    </tr>\n",
       "    <tr>\n",
       "      <th>3</th>\n",
       "      <td>4</td>\n",
       "      <td>Sweet Cheeks 2012 Vintner's Reserve Wild Child...</td>\n",
       "      <td>Pinot Noir</td>\n",
       "      <td>Sweet Cheeks</td>\n",
       "    </tr>\n",
       "    <tr>\n",
       "      <th>4</th>\n",
       "      <td>5</td>\n",
       "      <td>Tandem 2011 Ars In Vitro Tempranillo-Merlot (N...</td>\n",
       "      <td>Tempranillo-Merlot</td>\n",
       "      <td>Tandem</td>\n",
       "    </tr>\n",
       "  </tbody>\n",
       "</table>\n",
       "</div>"
      ],
      "text/plain": [
       "   wine_id                                              title  \\\n",
       "0        1      Quinta dos Avidagos 2011 Avidagos Red (Douro)   \n",
       "1        2      Rainstorm 2013 Pinot Gris (Willamette Valley)   \n",
       "2        3  St. Julian 2013 Reserve Late Harvest Riesling ...   \n",
       "3        4  Sweet Cheeks 2012 Vintner's Reserve Wild Child...   \n",
       "4        5  Tandem 2011 Ars In Vitro Tempranillo-Merlot (N...   \n",
       "\n",
       "              variety               winery  \n",
       "0      Portuguese Red  Quinta dos Avidagos  \n",
       "1          Pinot Gris            Rainstorm  \n",
       "2            Riesling           St. Julian  \n",
       "3          Pinot Noir         Sweet Cheeks  \n",
       "4  Tempranillo-Merlot               Tandem  "
      ]
     },
     "execution_count": 38,
     "metadata": {},
     "output_type": "execute_result"
    }
   ],
   "source": [
    "pd.read_sql_query('select * from bottle', con=engine).head()"
   ]
  },
  {
   "cell_type": "code",
   "execution_count": null,
   "metadata": {},
   "outputs": [],
   "source": []
  }
 ],
 "metadata": {
  "kernelspec": {
   "display_name": "ut_data",
   "language": "python",
   "name": "ut_data"
  },
  "language_info": {
   "codemirror_mode": {
    "name": "ipython",
    "version": 3
   },
   "file_extension": ".py",
   "mimetype": "text/x-python",
   "name": "python",
   "nbconvert_exporter": "python",
   "pygments_lexer": "ipython3",
   "version": "3.7.2"
  }
 },
 "nbformat": 4,
 "nbformat_minor": 2
}
